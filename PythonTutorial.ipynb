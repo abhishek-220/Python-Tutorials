{
  "nbformat": 4,
  "nbformat_minor": 0,
  "metadata": {
    "colab": {
      "name": "PythonTutorial.ipynb",
      "provenance": [],
      "collapsed_sections": [],
      "authorship_tag": "ABX9TyM/UQvvwy+0mZ1EtKmROKzw",
      "include_colab_link": true
    },
    "kernelspec": {
      "name": "python3",
      "display_name": "Python 3"
    },
    "language_info": {
      "name": "python"
    }
  },
  "cells": [
    {
      "cell_type": "markdown",
      "metadata": {
        "id": "view-in-github",
        "colab_type": "text"
      },
      "source": [
        "<a href=\"https://colab.research.google.com/github/abhishek-220/Python-Tutorials/blob/main/PythonTutorial.ipynb\" target=\"_parent\"><img src=\"https://colab.research.google.com/assets/colab-badge.svg\" alt=\"Open In Colab\"/></a>"
      ]
    },
    {
      "cell_type": "markdown",
      "metadata": {
        "id": "g5tNx8IivENM"
      },
      "source": [
        "Q.1 **\"Write a program to display different data types\"** "
      ]
    },
    {
      "cell_type": "code",
      "metadata": {
        "colab": {
          "base_uri": "https://localhost:8080/"
        },
        "id": "LQcNRERAvAR2",
        "outputId": "b6aaa334-048e-44a4-d04b-9e6d74b01bdd"
      },
      "source": [
        "a = 11\n",
        "b = 112232.09\n",
        "c = 12j\n",
        "d = \"Abhishek\"\n",
        "print(\"The type of a is\",type(a))\n",
        "print(\"The type of b is\",type(b))\n",
        "print(\"The type of c is\",type(c))\n",
        "print(\"The type of d is\",type(d))"
      ],
      "execution_count": null,
      "outputs": [
        {
          "output_type": "stream",
          "text": [
            "The type of a is <class 'int'>\n",
            "The type of b is <class 'float'>\n",
            "The type of c is <class 'complex'>\n",
            "The type of d is <class 'str'>\n"
          ],
          "name": "stdout"
        }
      ]
    },
    {
      "cell_type": "markdown",
      "metadata": {
        "id": "urJH09BTwIHE"
      },
      "source": [
        "Q.2 **\"Write a program to perform different arithmetic functions in python\"**\n"
      ]
    },
    {
      "cell_type": "code",
      "metadata": {
        "colab": {
          "base_uri": "https://localhost:8080/"
        },
        "id": "oij4WS45wCyy",
        "outputId": "5c1f14de-b113-4d30-a23b-76997619c14c"
      },
      "source": [
        "a = int(input(\"Enter value of a: \")) \n",
        "b = int(input(\"Enter value of b: \"))\n",
        "print(\"Addition of  a and b\", a+b)\n",
        "print(\"Subtraction of  a and b\",a-b)\n",
        "print(\"Multipliation of  a and b\",a*b)\n",
        "print(\"Division of  a and b\",a/b)\n",
        "print(\"Modulus/Remainder of  a and b\",a%b)\n",
        "print(\"Floar division of  a and b\",a//b)\n",
        "print(\"Exponent of  a and b\",a**b)\n"
      ],
      "execution_count": null,
      "outputs": [
        {
          "output_type": "stream",
          "text": [
            "Enter value of a: 5\n",
            "Enter value of b: 3\n",
            "Addition of  a and b 8\n",
            "Subtraction of  a and b 2\n",
            "Multipliation of  a and b 15\n",
            "Division of  a and b 1.6666666666666667\n",
            "Modulus/Remainder of  a and b 2\n",
            "Floar division of  a and b 1\n",
            "Exponent of  a and b 125\n"
          ],
          "name": "stdout"
        }
      ]
    },
    {
      "cell_type": "markdown",
      "metadata": {
        "id": "vJV8qO50yUFC"
      },
      "source": [
        "Q.3 **\"Write a program to print a calendar\"**"
      ]
    },
    {
      "cell_type": "code",
      "metadata": {
        "colab": {
          "base_uri": "https://localhost:8080/"
        },
        "id": "Ha240Ar751fc",
        "outputId": "f406d071-915e-4cb6-b532-27751529afb0"
      },
      "source": [
        "import calendar\n",
        "yy = int(input(\"Enter the required year before 2010: \"))\n",
        "mm = int(input(\"Enter the month:\"))\n",
        "\n",
        "print(calendar.month(yy,mm))"
      ],
      "execution_count": null,
      "outputs": [
        {
          "output_type": "stream",
          "text": [
            "Enter the required year before 2010: 2008\n",
            "Enter the month:12\n",
            "   December 2008\n",
            "Mo Tu We Th Fr Sa Su\n",
            " 1  2  3  4  5  6  7\n",
            " 8  9 10 11 12 13 14\n",
            "15 16 17 18 19 20 21\n",
            "22 23 24 25 26 27 28\n",
            "29 30 31\n",
            "\n"
          ],
          "name": "stdout"
        }
      ]
    },
    {
      "cell_type": "markdown",
      "metadata": {
        "id": "WrEVSKyW7LKe"
      },
      "source": [
        "Q.4 **\"Write a program to find maximum of two numbers\"**"
      ]
    },
    {
      "cell_type": "code",
      "metadata": {
        "colab": {
          "base_uri": "https://localhost:8080/"
        },
        "id": "4zqOlu3CDoA9",
        "outputId": "d302afa2-f97d-4749-9558-827e55e8a83c"
      },
      "source": [
        "n = int(input(\"Enter the value for n: \"))\n",
        "d = int(input(\"Enter the value for d: \"))\n",
        "\n",
        "if (n>d):\n",
        "  print(\"The maximum is n: \",n)\n",
        "else:\n",
        "  print(\"The maximum is d: \",d)"
      ],
      "execution_count": null,
      "outputs": [
        {
          "output_type": "stream",
          "text": [
            "Enter the value for n: 34\n",
            "Enter the value for d: 76\n",
            "The maximum is d:  76\n"
          ],
          "name": "stdout"
        }
      ]
    },
    {
      "cell_type": "markdown",
      "metadata": {
        "id": "Weo-JVVbEd2G"
      },
      "source": [
        "Q.5 **\"Write a program to find wether the input number is prime or not\"**"
      ]
    },
    {
      "cell_type": "code",
      "metadata": {
        "colab": {
          "base_uri": "https://localhost:8080/"
        },
        "id": "BsigNv9ME1Cy",
        "outputId": "51ea1bf5-0254-46e4-93d2-19b82dafaa9f"
      },
      "source": [
        "num = int(input(\"Enter the number: \"))  \n",
        "c = 0\n",
        "for i in range (1,num+1):\n",
        "  if(num%i == 0):\n",
        "    c += 1\n",
        "  \n",
        "if (c==2):\n",
        "  print(\"The number is prime\", num)\n",
        "else:\n",
        "  print(\"The number is not prime\", num)"
      ],
      "execution_count": null,
      "outputs": [
        {
          "output_type": "stream",
          "text": [
            "Enter the number: 13\n",
            "The number is prime 13\n"
          ],
          "name": "stdout"
        }
      ]
    },
    {
      "cell_type": "markdown",
      "metadata": {
        "id": "8YKJ4-hQFapZ"
      },
      "source": [
        "Q.6 **\"Write a program to find factorial of a number\"**"
      ]
    },
    {
      "cell_type": "code",
      "metadata": {
        "colab": {
          "base_uri": "https://localhost:8080/"
        },
        "id": "2McKlU1DF0IL",
        "outputId": "835dd2d2-0fbd-4715-a002-5abc82e5f37b"
      },
      "source": [
        "num = int(input(\"Enter the number: \"))\n",
        "fact = 1\n",
        "\n",
        "for i in range(1,num+1):\n",
        "  fact *= i\n",
        "\n",
        "print(fact)"
      ],
      "execution_count": null,
      "outputs": [
        {
          "output_type": "stream",
          "text": [
            "Enter the number: 6\n",
            "720\n"
          ],
          "name": "stdout"
        }
      ]
    },
    {
      "cell_type": "markdown",
      "metadata": {
        "id": "_he9L_B5HgQ8"
      },
      "source": [
        "Q.6 **\"Write a program to print fibonacci series to nth term\"**"
      ]
    },
    {
      "cell_type": "code",
      "metadata": {
        "colab": {
          "base_uri": "https://localhost:8080/"
        },
        "id": "xCX3IlWxHoMZ",
        "outputId": "4386c39b-5191-495f-a239-25d7a7429f89"
      },
      "source": [
        "n = int(input(\"Enter the nth term: \"))\n",
        "a = 0\n",
        "b = 1\n",
        "print(a)\n",
        "print(b)\n",
        "\n",
        "for i in range (2, n+1):\n",
        "  c = a+b\n",
        "  a = b\n",
        "  b = c\n",
        "  print(c)"
      ],
      "execution_count": null,
      "outputs": [
        {
          "output_type": "stream",
          "text": [
            "Enter the nth term: 12\n",
            "0\n",
            "1\n",
            "1\n",
            "2\n",
            "3\n",
            "5\n",
            "8\n",
            "13\n",
            "21\n",
            "34\n",
            "55\n",
            "89\n",
            "144\n"
          ],
          "name": "stdout"
        }
      ]
    },
    {
      "cell_type": "markdown",
      "metadata": {
        "id": "ygppmAYNIllV"
      },
      "source": [
        "Q.7 **\"Write a program to heck wether the number is a armstrong number or not\"**"
      ]
    },
    {
      "cell_type": "code",
      "metadata": {
        "colab": {
          "base_uri": "https://localhost:8080/"
        },
        "id": "C8eBz-gwIvFF",
        "outputId": "b7e08234-6edb-41af-c43c-15e97ac8cfca"
      },
      "source": [
        "num_1 = int(input(\"Enter the number: \"))\n",
        "n = num_1\n",
        "count=0\n",
        "while(n>0):\n",
        "    count=count+1\n",
        "    n=n//10\n",
        "\n",
        "n = num_1\n",
        "d = 0\n",
        "sum = 0 \n",
        "while (n>0):\n",
        "  d = n%10\n",
        "  sum += pow(d,count)\n",
        "  n = n//10\n",
        "\n",
        "if(sum == num_1):\n",
        "  print(\"The number is Armstrong: \",num_1)\n",
        "else:\n",
        "  print(\"The number is not Armstrong!\")"
      ],
      "execution_count": null,
      "outputs": [
        {
          "output_type": "stream",
          "text": [
            "Enter the number: 153\n",
            "3 0\n",
            "153\n",
            "The number is Armstrong:  153\n"
          ],
          "name": "stdout"
        }
      ]
    },
    {
      "cell_type": "markdown",
      "metadata": {
        "id": "YgQAqj5LMRVw"
      },
      "source": [
        "Q.8 **\"Write a python script to print the current date in the following format\"**\n",
        "                 \n",
        " **\"Sun Aug 7 11:46:23 IST 2021\"** "
      ]
    },
    {
      "cell_type": "code",
      "metadata": {
        "colab": {
          "base_uri": "https://localhost:8080/",
          "height": 88
        },
        "id": "Kz2LnzDOQsHV",
        "outputId": "aba52a63-5717-45f0-a1ec-b0dbd3627a0e"
      },
      "source": [
        "import time # importim=ng time package\n",
        "\n",
        "ntime = time.localtime()\n",
        "print(time.strftime(\"%a %b %d %H:%M:%S %Z %Y\",ntime))\n",
        "\n",
        "'''\n",
        "%a is Abbreviated weekday name.\n",
        "%b is Abbreviated month name.\n",
        "%d is Day of the month as a decimal number [01,31].\n",
        "%H is Hour (24-hour clock) as a decimal number [00,23].\n",
        "%M is Minute as a decimal number [00,59].\n",
        "%S is Second as decimal number [00, 61].\n",
        "%Z is Time zone name (no characters if no time zone exists).\n",
        "%Y is Year with century as a decimal number.  '''"
      ],
      "execution_count": null,
      "outputs": [
        {
          "output_type": "stream",
          "text": [
            "Sat Aug 07 06:24:15 UTC 2021\n"
          ],
          "name": "stdout"
        },
        {
          "output_type": "execute_result",
          "data": {
            "application/vnd.google.colaboratory.intrinsic+json": {
              "type": "string"
            },
            "text/plain": [
              "'\\n%a is Abbreviated weekday name.\\n%b is Abbreviated month name.\\n%d is Day of the month as a decimal number [01,31].\\n%H is Hour (24-hour clock) as a decimal number [00,23].\\n%M is Minute as a decimal number [00,59].\\n%S is Second as decimal number [00, 61].\\n%Z is Time zone name (no characters if no time zone exists).\\n%Y is Year with century as a decimal number.  '"
            ]
          },
          "metadata": {
            "tags": []
          },
          "execution_count": 20
        }
      ]
    },
    {
      "cell_type": "markdown",
      "metadata": {
        "id": "CV4KkKujSPx3"
      },
      "source": [
        "Q.9 **\"Write a program to create a timer that will countdown in reverse order\"**"
      ]
    },
    {
      "cell_type": "code",
      "metadata": {
        "colab": {
          "base_uri": "https://localhost:8080/"
        },
        "id": "qk4MmHVkuhj4",
        "outputId": "f205e5ef-3272-4b1a-d12f-02ca8f696dd5"
      },
      "source": [
        "import time\n",
        "\n",
        "count_sec = 5   #you can input also for seconds\n",
        "for i in reversed(range(count_sec+1)):\n",
        "  if(i>0):\n",
        "    print(i,end = '>>> ', flush = True)\n",
        "    time.sleep(1)\n",
        "  else:\n",
        "    print(\"ReStart\")"
      ],
      "execution_count": null,
      "outputs": [
        {
          "output_type": "stream",
          "text": [
            "5>>> 4>>> 3>>> 2>>> 1>>> ReStart\n"
          ],
          "name": "stdout"
        }
      ]
    },
    {
      "cell_type": "markdown",
      "metadata": {
        "id": "Jqd8eNxTNgaF"
      },
      "source": [
        "Q.10 **\"Write a program to input an array and reverse it\"**"
      ]
    },
    {
      "cell_type": "code",
      "metadata": {
        "id": "_coI8mfKkooc",
        "colab": {
          "base_uri": "https://localhost:8080/"
        },
        "outputId": "0a7b58a2-e2c3-4547-c8a8-efe2c38ad009"
      },
      "source": [
        "\n",
        "# number of elements\n",
        "n = int(input(\"Enter number of elements : \"))\n",
        " \n",
        "# Below line read inputs from user using map() function\n",
        "a = list(map(int,input(\"\\nEnter the numbers : \").strip().split()))[:n]\n",
        " \n",
        "print(\"\\nList is - \", a)\n",
        "\n",
        "a.reverse()\n",
        "print(a)"
      ],
      "execution_count": null,
      "outputs": [
        {
          "output_type": "stream",
          "text": [
            "Enter number of elements : 5\n",
            "\n",
            "Enter the numbers : 2 1 45 23 4\n",
            "\n",
            "List is -  [2, 1, 45, 23, 4]\n"
          ],
          "name": "stdout"
        },
        {
          "output_type": "execute_result",
          "data": {
            "text/plain": [
              "[4, 23, 45, 1, 2]"
            ]
          },
          "metadata": {
            "tags": []
          },
          "execution_count": 8
        }
      ]
    },
    {
      "cell_type": "markdown",
      "metadata": {
        "id": "S89vfA7zgftF"
      },
      "source": [
        "Q.11 **\"Write a program to sort the elements of a list\"**"
      ]
    },
    {
      "cell_type": "code",
      "metadata": {
        "id": "PgyQgIu_ko6a",
        "colab": {
          "base_uri": "https://localhost:8080/"
        },
        "outputId": "174b8155-78a0-4b2a-e344-681e751a9a64"
      },
      "source": [
        "a = [12,34,2342,123,22,4,23,12] #list\n",
        "a.sort()\n",
        "print(a)"
      ],
      "execution_count": null,
      "outputs": [
        {
          "output_type": "stream",
          "text": [
            "[4, 12, 12, 22, 23, 34, 123, 2342]\n"
          ],
          "name": "stdout"
        }
      ]
    },
    {
      "cell_type": "markdown",
      "metadata": {
        "id": "EpysTvKDBESn"
      },
      "source": [
        " Q.12 **\"Write a program to find the largest element in the list\"**"
      ]
    },
    {
      "cell_type": "code",
      "metadata": {
        "id": "dA-5YfbakpHX",
        "colab": {
          "base_uri": "https://localhost:8080/"
        },
        "outputId": "6d60f952-22f5-4c30-a180-e63d7339c04e"
      },
      "source": [
        "a = [12,34,2342,123,22,4,23,12] #list\n",
        "b = a[0]\n",
        "print(len(a))\n",
        "for i in range(0,len(a)):\n",
        "  if(a[i]>b):\n",
        "    b = a[i]\n",
        "\n",
        "print(b)"
      ],
      "execution_count": null,
      "outputs": [
        {
          "output_type": "stream",
          "text": [
            "8\n",
            "2342\n"
          ],
          "name": "stdout"
        }
      ]
    },
    {
      "cell_type": "markdown",
      "metadata": {
        "id": "dDLsyohGIqOU"
      },
      "source": [
        "Q.13 \"**Given two sorted arrays nums1 and nums2 of size m and n respectively, return the median of the two sorted arrays**.\n",
        "\n",
        "\n",
        " \n",
        "\n",
        "  **Example 1**:\n",
        "\n",
        "     Input: nums1 = [1,3], nums2 = [2]\n",
        "     Output: 2.00000\n",
        "     Explanation: merged array = [1,2,3] and median is 2.\n",
        " \n",
        "  **Example 2:**\n",
        "\n",
        "     Input: nums1 = [1,2], nums2 = [3,4]\n",
        "     Output: 2.50000\n",
        "     Explanation: merged array = [1,2,3,4] and median is (2 + 3) / 2 = 2.5\""
      ]
    },
    {
      "cell_type": "code",
      "metadata": {
        "id": "WQWXixMikpmv",
        "colab": {
          "base_uri": "https://localhost:8080/"
        },
        "outputId": "c440ccf5-0de2-4e4c-f749-d7c2e13a3506"
      },
      "source": [
        "n1 = int(input(\"Enter the limit of first aaray: \"))\n",
        "n2 = int(input(\"Enter the limit of second array: \"))\n",
        "num1 = list(map(int,input(\"\\nEnter the numbers of num1 array : \").strip().split()))[:n1]\n",
        "num2 = list(map(int,input(\"\\nEnter the numbers of num2 array : \").strip().split()))[:n2]\n",
        "z=0\n",
        "num3 = [None] * (n1 + n2)\n",
        "for i in range (0,n1):\n",
        "  num3[z] = num1[i]\n",
        "  z = z+1\n",
        "\n",
        "for j in range(0,n2):\n",
        "  num3[z] = num2[j]\n",
        "  z = z+1\n",
        "\n",
        "num3.sort()\n",
        "print(\"The merger sorted array: \",num3)\n",
        "\n",
        "d = len(num3)\n",
        "median = 0.0\n",
        "if(d%2 == 0):\n",
        "  f = d//2\n",
        "  median = (num3[f] + num3[f-1])/2\n",
        "else:\n",
        "  f = (d-1)//2\n",
        "  median = num3[f]\n",
        "\n",
        "print(\"The median is: \",median)"
      ],
      "execution_count": null,
      "outputs": [
        {
          "output_type": "stream",
          "text": [
            "Enter the limit of first aaray: 2\n",
            "Enter the limit of second array: 2\n",
            "\n",
            "Enter the numbers of num1 array : 1 3\n",
            "\n",
            "Enter the numbers of num2 array : 2 4\n",
            "The merger sorted array:  [1, 2, 3, 4]\n",
            "The median is:  2.5\n"
          ],
          "name": "stdout"
        }
      ]
    },
    {
      "cell_type": "markdown",
      "metadata": {
        "id": "l63Wfp7lQsVK"
      },
      "source": [
        "Q.14 \"**The count-and-say sequence is a sequence of digit strings defined by the recursive formula**:\n",
        "\n",
        "countAndSay(1) = \"1\"\n",
        "countAndSay(n) is the way you would \"say\" the digit string from countAndSay(n-1), which is then converted into a different digit string.\n",
        "To determine how you \"say\" a digit string, split it into the minimal number of groups so that each group is a contiguous section all of the same character. Then for each group, say the number of characters, then say the character. To convert the saying into a digit string, replace the counts with a number and concatenate every saying.\n",
        "\n",
        "**Example 1:**\n",
        "\n",
        "Input: n = 1\n",
        "Output: \"1\"\n",
        "Explanation: This is the base case.\n",
        "\n",
        "**Example 2**:\n",
        "\n",
        "Input: n = 4\n",
        "Output: \"1211\"\n",
        "Explanation:\n",
        "countAndSay(1) = \"1\"\n",
        "countAndSay(2) = say \"1\" = one 1 = \"11\"\n",
        "countAndSay(3) = say \"11\" = two 1's = \"21\"\n",
        "countAndSay(4) = say \"21\" = one 2 + one 1 = \"12\" + \"11\" = \"1211\"  \""
      ]
    },
    {
      "cell_type": "code",
      "metadata": {
        "id": "pAaHeGvtkpTn",
        "colab": {
          "base_uri": "https://localhost:8080/"
        },
        "outputId": "c7f23ecc-5d69-41af-e674-5f7bb35d1b28"
      },
      "source": [
        "def countAndSay(curr):\n",
        "    result = \"\" # to store the term after 'curr'\n",
        "    i = 0       # to iterate over 'curr'\n",
        "    # Need to iterate over 'curr', and also count the \n",
        "    # number of digits that occur in the same group \n",
        "    while i < len(curr):\n",
        "        count = 1 # To store how many times a digit occured\n",
        "        # Inner while loop compares current digit and the next digit\n",
        "        while i + 1 < len(curr) and curr[i] == curr[i+1]:\n",
        "            i += 1\n",
        "            count += 1\n",
        "        result += (str(count) + curr[i])\n",
        "        i += 1\n",
        "    return result\n",
        "\n",
        "# Driver code\n",
        "number = \"1\" # First member is always 1.\n",
        "n = int(input(\"Enter the number: \")) # Number of members in the sequence\n",
        "for i in range(n-1):\n",
        "    number = countAndSay(number)\n",
        "\n",
        "print(number)"
      ],
      "execution_count": null,
      "outputs": [
        {
          "output_type": "stream",
          "text": [
            "Enter the number: 4\n",
            "1211\n"
          ],
          "name": "stdout"
        }
      ]
    },
    {
      "cell_type": "markdown",
      "metadata": {
        "id": "mudsv3N9ZgJ5"
      },
      "source": [
        "\n",
        "**PATTERN**"
      ]
    },
    {
      "cell_type": "markdown",
      "metadata": {
        "id": "pnJ_nBLqZvdv"
      },
      "source": [
        "Q.1 **\"Write a program to print the pattern\"**\n",
        "\n",
        "     # # # # # # # \n",
        "     # # # # # # #\n",
        "     # # # # # # #\n",
        "     # # # # # # #\n",
        "     # # # # # # #"
      ]
    },
    {
      "cell_type": "code",
      "metadata": {
        "id": "hgaiaGNGkp3o",
        "colab": {
          "base_uri": "https://localhost:8080/"
        },
        "outputId": "1e3699ce-cfbf-4e7d-97fe-0299a7d4a1d3"
      },
      "source": [
        "# Algorithm\n",
        "a =\"#\"\n",
        "\n",
        "for i in range(5):\n",
        "  for j in range (7):\n",
        "    print(a, end=\" \")\n",
        "\n",
        "  print(\"\\n\")"
      ],
      "execution_count": null,
      "outputs": [
        {
          "output_type": "stream",
          "text": [
            "# # # # # # # \n",
            "\n",
            "# # # # # # # \n",
            "\n",
            "# # # # # # # \n",
            "\n",
            "# # # # # # # \n",
            "\n",
            "# # # # # # # \n",
            "\n"
          ],
          "name": "stdout"
        }
      ]
    },
    {
      "cell_type": "markdown",
      "metadata": {
        "id": "EVXuSzQdaZp1"
      },
      "source": [
        "Q.2 **\"Write a program to print the pattern\"**\n",
        " \n",
        "     1\n",
        "     2 3\n",
        "     4 5 6\n",
        "     7 8 9 10\n",
        "     ..... to n term"
      ]
    },
    {
      "cell_type": "code",
      "metadata": {
        "id": "SYDzzf0wkqX1",
        "colab": {
          "base_uri": "https://localhost:8080/"
        },
        "outputId": "d8dfc5af-6c9b-4e4b-8489-86a91033940f"
      },
      "source": [
        "# Algorithm\n",
        "n = int(input(\"Enter the number: \"))\n",
        "a = 1\n",
        "for i in range(i):\n",
        "  for j in range(1,i+1):\n",
        "    print(a, end = \" \")\n",
        "    a = a+1\n",
        "  print(\"\\n\")"
      ],
      "execution_count": null,
      "outputs": [
        {
          "output_type": "stream",
          "text": [
            "Enter the number: 4\n",
            "\n",
            "\n",
            "1 \n",
            "\n",
            "2 3 \n",
            "\n",
            "4 5 6 \n",
            "\n",
            "7 8 9 10 \n",
            "\n"
          ],
          "name": "stdout"
        }
      ]
    },
    {
      "cell_type": "markdown",
      "metadata": {
        "id": "YXz0Ytyfb_3j"
      },
      "source": [
        "\n",
        "Q.3 **\"Write a program to print the pattern\"**\n",
        "\n",
        "     1\n",
        "     22\n",
        "     333\n",
        "     4444\n",
        "     55555\n",
        "     ......to nth term"
      ]
    },
    {
      "cell_type": "code",
      "metadata": {
        "id": "aTFhd_j6kqm4",
        "colab": {
          "base_uri": "https://localhost:8080/"
        },
        "outputId": "01c7e542-db99-4049-9be7-e20b808781db"
      },
      "source": [
        "# Algorithm\n",
        "n = int(input(\"Enter the number: \"))\n",
        "\n",
        "for i in range(1,n+1):\n",
        "  for j in range(i):\n",
        "    print(i, end=\"\")\n",
        "\n",
        "  print(\"\\n\")"
      ],
      "execution_count": null,
      "outputs": [
        {
          "output_type": "stream",
          "text": [
            "Enter the number: 5\n",
            "1\n",
            "\n",
            "22\n",
            "\n",
            "333\n",
            "\n",
            "4444\n",
            "\n",
            "55555\n",
            "\n"
          ],
          "name": "stdout"
        }
      ]
    },
    {
      "cell_type": "markdown",
      "metadata": {
        "id": "9rpJZV-Rc86x"
      },
      "source": [
        "Q.4 **\"Write a program to print the pattern\"**\n",
        "\n",
        "      from nth term....\n",
        "      5 5 5 5 5 \n",
        "      4 4 4 4\n",
        "      3 3 3\n",
        "      2 2 \n",
        "      1"
      ]
    },
    {
      "cell_type": "code",
      "metadata": {
        "id": "W__7Q2fTk0WL",
        "colab": {
          "base_uri": "https://localhost:8080/"
        },
        "outputId": "40604382-8e1d-43fb-ea30-5e3ff6a944d8"
      },
      "source": [
        "# Algorithm\n",
        "n = int(input(\"Enter the number: \"))\n",
        "\n",
        "for i in range(n,0,-1):\n",
        "  for j in range (i):\n",
        "    print(i,end = \" \")\n",
        "\n",
        "  print(\"\\n\")"
      ],
      "execution_count": null,
      "outputs": [
        {
          "output_type": "stream",
          "text": [
            "Enter the number: 5\n",
            "5 5 5 5 5 \n",
            "\n",
            "4 4 4 4 \n",
            "\n",
            "3 3 3 \n",
            "\n",
            "2 2 \n",
            "\n",
            "1 \n",
            "\n"
          ],
          "name": "stdout"
        }
      ]
    },
    {
      "cell_type": "markdown",
      "metadata": {
        "id": "WmLbxOkweJcX"
      },
      "source": [
        "Q.5 **\"Write a program to print the pattern\"**\n",
        "     \n",
        "     1\n",
        "     21\n",
        "     321\n",
        "     4321\n",
        "     54321\n",
        "     .....to nth term"
      ]
    },
    {
      "cell_type": "code",
      "metadata": {
        "colab": {
          "base_uri": "https://localhost:8080/"
        },
        "id": "q7p9fpqbeu-h",
        "outputId": "ad1b7821-7725-41d4-d40a-e6e7dd2ff6d1"
      },
      "source": [
        "# Algorithm\n",
        "n = int(input(\"Enter the number: \"))\n",
        "\n",
        "for i in range(1,n+1):\n",
        "  for j in range(i):\n",
        "    print(i,end=\"\")\n",
        "    i = i-1\n",
        "\n",
        "  print(\"\\n\")"
      ],
      "execution_count": null,
      "outputs": [
        {
          "output_type": "stream",
          "text": [
            "Enter the number: 5\n",
            "1\n",
            "\n",
            "21\n",
            "\n",
            "321\n",
            "\n",
            "4321\n",
            "\n",
            "54321\n",
            "\n"
          ],
          "name": "stdout"
        }
      ]
    },
    {
      "cell_type": "markdown",
      "metadata": {
        "id": "ywng136rfA1b"
      },
      "source": [
        "Q.6 **\"Write a program to print the pattern\"**\n",
        "\n",
        "     from nth term....\n",
        "     0 1 2 3 4 5\n",
        "     0 1 2 3 4\n",
        "     0 1 2 3\n",
        "     0 1 2 \n",
        "     0 1\n",
        "     0"
      ]
    },
    {
      "cell_type": "code",
      "metadata": {
        "colab": {
          "base_uri": "https://localhost:8080/"
        },
        "id": "iQS-58itfRJq",
        "outputId": "27a9dc1f-64b1-41ac-94d3-c12d636c5ac8"
      },
      "source": [
        "# Algorithm\n",
        "n = int(input(\"Enter the number: \"))\n",
        "\n",
        "for i in range(n,0,-1):\n",
        "  for j in range (0,i+1):\n",
        "    print(j,end= \" \")\n",
        "\n",
        "  print(\"\\n\")"
      ],
      "execution_count": null,
      "outputs": [
        {
          "output_type": "stream",
          "text": [
            "Enter the number: 5\n",
            "0 1 2 3 4 5 \n",
            "\n",
            "0 1 2 3 4 \n",
            "\n",
            "0 1 2 3 \n",
            "\n",
            "0 1 2 \n",
            "\n",
            "0 1 \n",
            "\n"
          ],
          "name": "stdout"
        }
      ]
    },
    {
      "cell_type": "markdown",
      "metadata": {
        "id": "0m1H9h_of9d7"
      },
      "source": [
        "Q.7 **\"Write a program to print the pattern\"**\n",
        "\n",
        "    1\n",
        "    121\n",
        "    12321\n",
        "    1234321\n",
        "    123454321\n",
        "    ...... for n terms"
      ]
    },
    {
      "cell_type": "code",
      "metadata": {
        "colab": {
          "base_uri": "https://localhost:8080/"
        },
        "id": "WsCGze1-gP57",
        "outputId": "709107bd-ff47-4191-d267-7db5222fe405"
      },
      "source": [
        "#  Algorithm\n",
        "n = int(input(\"Enter the number: \"))\n",
        "num = 0\n",
        "for i in range(1,n+1):\n",
        "  for j in range(i):\n",
        "    num = num+1\n",
        "    print(num,end =\"\")\n",
        "\n",
        "  for z in range(i-1):\n",
        "    num = num-1\n",
        "    print(num, end = \"\")\n",
        "\n",
        "  num = 0\n",
        "  print(\"\\n\")"
      ],
      "execution_count": null,
      "outputs": [
        {
          "output_type": "stream",
          "text": [
            "Enter the number: 5\n",
            "1\n",
            "\n",
            "121\n",
            "\n",
            "12321\n",
            "\n",
            "1234321\n",
            "\n",
            "123454321\n",
            "\n"
          ],
          "name": "stdout"
        }
      ]
    },
    {
      "cell_type": "markdown",
      "metadata": {
        "id": "k6IeNEnphlPK"
      },
      "source": [
        "Q.8 **\"Write a program to print the pattern\"**\n",
        "    \n",
        "    0\n",
        "    0 1\n",
        "    0 2 4\n",
        "    0 3 6 9 \n",
        "    0 4 8 12 16\n",
        "    0 5 10 15 20 25\n",
        "    ......upto n terms"
      ]
    },
    {
      "cell_type": "code",
      "metadata": {
        "colab": {
          "base_uri": "https://localhost:8080/"
        },
        "id": "UQrdtKccipmi",
        "outputId": "6d7a399a-e7f7-48b0-edc9-60044dc23917"
      },
      "source": [
        "# Algorithm\n",
        "n = int(input(\"Enter the number: \"))\n",
        "\n",
        "for i in range(0,n+1):\n",
        "  for j in range(0,i+1):\n",
        "    print(i*j,end = \" \")\n",
        "\n",
        "  print(\"\\n\")\n"
      ],
      "execution_count": null,
      "outputs": [
        {
          "output_type": "stream",
          "text": [
            "Enter the number: 6\n",
            "0 \n",
            "\n",
            "0 1 \n",
            "\n",
            "0 2 4 \n",
            "\n",
            "0 3 6 9 \n",
            "\n",
            "0 4 8 12 16 \n",
            "\n",
            "0 5 10 15 20 25 \n",
            "\n",
            "0 6 12 18 24 30 36 \n",
            "\n"
          ],
          "name": "stdout"
        }
      ]
    },
    {
      "cell_type": "markdown",
      "metadata": {
        "id": "0tf5UU5ni_2i"
      },
      "source": [
        "Q.9 **\"Write a program to print the pattern\"**\n",
        "\n",
        "          1\n",
        "         12\n",
        "        123\n",
        "       1234\n",
        "      12345\n",
        "      ....n terms"
      ]
    },
    {
      "cell_type": "code",
      "metadata": {
        "id": "pUckAHlSkotU",
        "colab": {
          "base_uri": "https://localhost:8080/"
        },
        "outputId": "0d3ce1b2-e4fb-4364-9cd6-0a491e61e50d"
      },
      "source": [
        "# Algorithm\n",
        "n = int(input(\"Enter the number: \"))\n",
        "l=1\n",
        "\n",
        "for i in range(n+1,0,-1):\n",
        "  for z in range(1,i):\n",
        "    print(\" \",end=\"\")\n",
        "\n",
        "  for j in range(1,l):\n",
        "    print(j,end=\"\")\n",
        "    \n",
        "  l = l+1\n",
        "  print(\"\\n\")\n",
        "\n"
      ],
      "execution_count": null,
      "outputs": [
        {
          "output_type": "stream",
          "text": [
            "Enter the number: 5\n",
            "     \n",
            "\n",
            "    1\n",
            "\n",
            "   12\n",
            "\n",
            "  123\n",
            "\n",
            " 1234\n",
            "\n",
            "12345\n",
            "\n"
          ],
          "name": "stdout"
        }
      ]
    },
    {
      "cell_type": "markdown",
      "metadata": {
        "id": "Pj1jWGII6V96"
      },
      "source": [
        "Q.10 **\"Write a program to print the pattern\"**\n",
        "     \n",
        "     .....from n terms\n",
        "     1 2 3 4 5 5 4 3 2 1\n",
        "       1 2 3 4 4 3 2 1\n",
        "         1 2 3 3 2 1\n",
        "           1 2 2 1\n",
        "             1 1\n"
      ]
    },
    {
      "cell_type": "code",
      "metadata": {
        "id": "8iRWb0Y-686t",
        "colab": {
          "base_uri": "https://localhost:8080/"
        },
        "outputId": "98fff85e-23d0-4220-f077-67824217571d"
      },
      "source": [
        "#Algorithm\n",
        "n = int(input(\"Enter the limit: \"))\n",
        "z = 1\n",
        "f = n\n",
        "print(\"\\n\")\n",
        "for i in range(1,n+1):\n",
        "  for k in range(z):\n",
        "    print(\" \",end=\"\")\n",
        "\n",
        "  for j in range(1,f+1):\n",
        "    print(j,end=\"\")\n",
        "\n",
        "  for l in range(f,0,-1):\n",
        "    print(l,end=\"\")\n",
        "\n",
        "  z = z+1\n",
        "  f = f-1\n",
        "  print(\"\\n\")\n",
        "\n",
        "# Output"
      ],
      "execution_count": null,
      "outputs": [
        {
          "output_type": "stream",
          "text": [
            "Enter the limit: 5\n",
            "\n",
            "\n",
            " 1234554321\n",
            "\n",
            "  12344321\n",
            "\n",
            "   123321\n",
            "\n",
            "    1221\n",
            "\n",
            "     11\n",
            "\n"
          ],
          "name": "stdout"
        }
      ]
    },
    {
      "cell_type": "markdown",
      "metadata": {
        "id": "zg6sUGfDYUjy"
      },
      "source": [
        "***TUPLE***"
      ]
    },
    {
      "cell_type": "markdown",
      "metadata": {
        "id": "yQmk6liLYbvl"
      },
      "source": [
        "**Perfrom basic operations on tuples**"
      ]
    },
    {
      "cell_type": "code",
      "metadata": {
        "colab": {
          "base_uri": "https://localhost:8080/"
        },
        "id": "VB2p5jwbYaIZ",
        "outputId": "caa626b8-5774-405b-8d75-520d9d3341f2"
      },
      "source": [
        "tup = (1,2,3,4)\n",
        "print(\"Printing element from index 1: \", tup[1:4])\n",
        "print(\"Repeating the elements: \", tup*2)\n",
        "\n",
        "# output"
      ],
      "execution_count": null,
      "outputs": [
        {
          "output_type": "stream",
          "text": [
            "Printing element from index 1:  (2, 3, 4)\n",
            "Repeating the elements:  (1, 2, 3, 4, 1, 2, 3, 4)\n"
          ],
          "name": "stdout"
        }
      ]
    },
    {
      "cell_type": "code",
      "metadata": {
        "colab": {
          "base_uri": "https://localhost:8080/"
        },
        "id": "3mWi0XAfbdQZ",
        "outputId": "fff2cc1e-1cc5-4b1f-c1ce-0870f3b0c358"
      },
      "source": [
        "tup2 = (\"sparta\",'z', 5-4j)\n",
        "print(\"Two tuples added: \", tup+tup2)\n",
        "print(\"The minimum value in tup: \", min(tup))\n",
        "print(\"The minimum value in tup: \", max(tup))\n",
        "#output"
      ],
      "execution_count": null,
      "outputs": [
        {
          "output_type": "stream",
          "text": [
            "Two tuples added:  (1, 2, 3, 4, 'sparta', 'z', (5-4j))\n",
            "The minimum value in tup:  1\n",
            "The minimum value in tup:  4\n"
          ],
          "name": "stdout"
        }
      ]
    },
    {
      "cell_type": "markdown",
      "metadata": {
        "id": "VnFbpsdHgyNm"
      },
      "source": [
        "***LIST***"
      ]
    },
    {
      "cell_type": "markdown",
      "metadata": {
        "id": "KzeLz2sshAWz"
      },
      "source": [
        "1. **Lists are mutable, with square braces**\n",
        "\n",
        "2. **Tuples are immutable, with round braces**\n",
        "\n",
        "3. **Dictionaries are mutable, with curly braces**"
      ]
    },
    {
      "cell_type": "markdown",
      "metadata": {
        "id": "rsrRae3OhSDD"
      },
      "source": [
        "**\"Perform basic operations on lists\"**"
      ]
    },
    {
      "cell_type": "code",
      "metadata": {
        "colab": {
          "base_uri": "https://localhost:8080/"
        },
        "id": "EDKlri93bHR3",
        "outputId": "db836033-125f-4214-cd43-cee963dc85d7"
      },
      "source": [
        "# Operations\n",
        "\n",
        "l1 = [1,2,3,4,\"Abhi\"]\n",
        "print(\"Print a element at different indexes: \", l1[0],l1[3])\n",
        "l1[0] = \"hello\"\n",
        "print(l1)\n",
        "l1.append(\"sparta\")\n",
        "print(\"Add an element: \",l1)\n",
        "l1.pop(2)  # removing element from index 2\n",
        "print(\"The element removed at 2nd index: \",l1)\n",
        "#output"
      ],
      "execution_count": null,
      "outputs": [
        {
          "output_type": "stream",
          "text": [
            "Print a element at different indexes:  1 4\n",
            "['hello', 2, 3, 4, 'Abhi']\n",
            "Add an element:  ['hello', 2, 3, 4, 'Abhi', 'sparta']\n",
            "The element removed at 2nd index:  ['hello', 2, 4, 'Abhi', 'sparta']\n"
          ],
          "name": "stdout"
        }
      ]
    },
    {
      "cell_type": "code",
      "metadata": {
        "colab": {
          "base_uri": "https://localhost:8080/"
        },
        "id": "S5c6ii3_yHfJ",
        "outputId": "7a2b6ea8-444d-4d77-ea85-13e9b8ea793b"
      },
      "source": [
        "# Operations\n",
        "\n",
        "l2 = [3,45,23,212,10,35,234]\n",
        "l2.reverse()\n",
        "print(\"The reversed list: \", l2)\n",
        "l2.sort()\n",
        "print(\"The sorted list: \",l2)\n",
        "l2.insert(2,\"Abhishek\") #appending at index 2\n",
        "print(l2)\n",
        "\n",
        "#Output"
      ],
      "execution_count": null,
      "outputs": [
        {
          "output_type": "stream",
          "text": [
            "The reversed list:  [234, 35, 10, 212, 23, 45, 3]\n",
            "The sorted list:  [3, 10, 23, 35, 45, 212, 234]\n",
            "[3, 10, 'Abhishek', 23, 35, 45, 212, 234]\n"
          ],
          "name": "stdout"
        }
      ]
    },
    {
      "cell_type": "code",
      "metadata": {
        "colab": {
          "base_uri": "https://localhost:8080/"
        },
        "id": "gX7WCfeqzY8w",
        "outputId": "2aedc8e5-cf6c-4c64-b7e4-9803c3d87719"
      },
      "source": [
        "# Operations\n",
        "\n",
        "l3 = [\"apple\", \"papaya\",\"kiwi\",\"banana\",\"orange\"]\n",
        "l3.sort()\n",
        "print(\"The sorted list: \",l3)\n",
        "\n",
        "print(l3*3)\n",
        "\n",
        "print(\"added lists: \",l2+l3)\n",
        "# Output"
      ],
      "execution_count": null,
      "outputs": [
        {
          "output_type": "stream",
          "text": [
            "The sorted list:  ['apple', 'banana', 'kiwi', 'orange', 'papaya']\n",
            "['apple', 'banana', 'kiwi', 'orange', 'papaya', 'apple', 'banana', 'kiwi', 'orange', 'papaya', 'apple', 'banana', 'kiwi', 'orange', 'papaya']\n",
            "added lists:  [3, 10, 'Abhishek', 23, 35, 45, 212, 234, 'apple', 'banana', 'kiwi', 'orange', 'papaya']\n"
          ],
          "name": "stdout"
        }
      ]
    },
    {
      "cell_type": "markdown",
      "metadata": {
        "id": "B8Xy1dar4QHg"
      },
      "source": [
        "***DICTIONARY***"
      ]
    },
    {
      "cell_type": "markdown",
      "metadata": {
        "id": "qrPzm8I-4Ul8"
      },
      "source": [
        "**Dictionaries syntax : {key:value,pair}**"
      ]
    },
    {
      "cell_type": "code",
      "metadata": {
        "colab": {
          "base_uri": "https://localhost:8080/"
        },
        "id": "WnLiw6NTzYxP",
        "outputId": "b69abee2-b0bd-434d-fb81-2ee49013920a"
      },
      "source": [
        "d1 = {\"Apple\":60, \"Mango\":120, \"Guava\": 70, \"Banana\": 300}\n",
        "print(type(d1))\n",
        "\n",
        "# extracting keys only\n",
        "print(\"Printing the keys: \", d1.keys())\n",
        "\n",
        "# extracting the values\n",
        "print(\"Printing the values: \",d1.values())"
      ],
      "execution_count": null,
      "outputs": [
        {
          "output_type": "stream",
          "text": [
            "<class 'dict'>\n",
            "Printing the keys:  dict_keys(['Apple', 'Mango', 'Guava', 'Banana'])\n",
            "Printing the values:  dict_values([60, 120, 70, 300])\n"
          ],
          "name": "stdout"
        }
      ]
    },
    {
      "cell_type": "code",
      "metadata": {
        "colab": {
          "base_uri": "https://localhost:8080/"
        },
        "id": "ilzxMMO69vZV",
        "outputId": "181961a6-fc73-4c4f-8738-ca9295259993"
      },
      "source": [
        "#modifying the values\n",
        "d1[\"Mango\"] = 200\n",
        "print(d1)\n",
        "\n",
        "d2 = {\"hello\":1000, \"Abhishek\":2000}\n",
        "d1.update(d2)            #vice versa can happen\n",
        "print(\"The updated dict: \",d1)\n",
        "\n",
        "d1.pop(\"hello\")\n",
        "print(d1)\n",
        "\n",
        "# Output"
      ],
      "execution_count": null,
      "outputs": [
        {
          "output_type": "stream",
          "text": [
            "{'Apple': 60, 'Mango': 200, 'Guava': 70, 'Banana': 300, 'Abhishek': 2000}\n",
            "The updated dict:  {'Apple': 60, 'Mango': 200, 'Guava': 70, 'Banana': 300, 'Abhishek': 2000, 'hello': 1000}\n"
          ],
          "name": "stdout"
        },
        {
          "output_type": "execute_result",
          "data": {
            "text/plain": [
              "{'Abhishek': 2000, 'Apple': 60, 'Banana': 300, 'Guava': 70, 'Mango': 200}"
            ]
          },
          "metadata": {
            "tags": []
          },
          "execution_count": 40
        }
      ]
    },
    {
      "cell_type": "code",
      "metadata": {
        "colab": {
          "base_uri": "https://localhost:8080/"
        },
        "id": "goP3Hl8m_MAl",
        "outputId": "c7e35766-f643-43be-f279-7db468001d8a"
      },
      "source": [
        "d1.pop(\"Apple\")  # popped out value"
      ],
      "execution_count": null,
      "outputs": [
        {
          "output_type": "execute_result",
          "data": {
            "text/plain": [
              "60"
            ]
          },
          "metadata": {
            "tags": []
          },
          "execution_count": 42
        }
      ]
    },
    {
      "cell_type": "code",
      "metadata": {
        "id": "N6S24nDp_xfR"
      },
      "source": [
        ""
      ],
      "execution_count": null,
      "outputs": []
    }
  ]
}